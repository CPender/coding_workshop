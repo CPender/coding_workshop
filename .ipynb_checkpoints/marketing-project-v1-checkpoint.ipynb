{
 "cells": [
  {
   "cell_type": "code",
   "execution_count": 1,
   "metadata": {},
   "outputs": [
    {
     "data": {
      "text/html": [
       "<style>.container { width:90% !important; }</style>"
      ],
      "text/plain": [
       "<IPython.core.display.HTML object>"
      ]
     },
     "metadata": {},
     "output_type": "display_data"
    }
   ],
   "source": [
    "import pandas as pd\n",
    "import numpy as np\n",
    "\n",
    "\n",
    "from IPython.core.display import display, HTML\n",
    "display(HTML(\"<style>.container { width:90% !important; }</style>\"))\n",
    "\n",
    "pd.set_option('display.max_columns', None)\n",
    "pd.set_option('display.max_rows', None)"
   ]
  },
  {
   "cell_type": "markdown",
   "metadata": {
    "hide_input": true
   },
   "source": [
    "<h1>Goal - Match contacts with no account to our Speedeon accounts from salesforce</h1>\n",
    "<hr>"
   ]
  },
  {
   "cell_type": "markdown",
   "metadata": {},
   "source": [
    "<h3> Dictionary - A dictionary consists of a collection of key-value pairs. Each key-value pair maps the key to its associated value</h3> \n",
    "<br />\n",
    "<img src=\"dict.png\"/>"
   ]
  },
  {
   "cell_type": "markdown",
   "metadata": {},
   "source": [
    "<h4> Creating Dictionary </h4>"
   ]
  },
  {
   "cell_type": "code",
   "execution_count": 2,
   "metadata": {},
   "outputs": [
    {
     "data": {
      "text/plain": [
       "{'a': 'alpha', 'o': 'omega', 'g': 'gamma'}"
      ]
     },
     "execution_count": 2,
     "metadata": {},
     "output_type": "execute_result"
    }
   ],
   "source": [
    "example_dict = {'a':'alpha', 'o':'omega', 'g': 'gamma'}\n",
    "example_dict"
   ]
  },
  {
   "cell_type": "markdown",
   "metadata": {},
   "source": [
    "<h4> Accesing Value by key </h4>"
   ]
  },
  {
   "cell_type": "code",
   "execution_count": 3,
   "metadata": {},
   "outputs": [
    {
     "data": {
      "text/plain": [
       "'alpha'"
      ]
     },
     "execution_count": 3,
     "metadata": {},
     "output_type": "execute_result"
    }
   ],
   "source": [
    "example_dict['a']"
   ]
  },
  {
   "cell_type": "markdown",
   "metadata": {},
   "source": [
    "<h4> Adding a new key </h4>"
   ]
  },
  {
   "cell_type": "code",
   "execution_count": 4,
   "metadata": {},
   "outputs": [
    {
     "data": {
      "text/plain": [
       "{'a': 'alpha', 'o': 'omega', 'g': 'gamma', 'b': 'beta'}"
      ]
     },
     "execution_count": 4,
     "metadata": {},
     "output_type": "execute_result"
    }
   ],
   "source": [
    "example_dict['b'] = 'beta'\n",
    "\n",
    "example_dict"
   ]
  },
  {
   "cell_type": "markdown",
   "metadata": {},
   "source": [
    "<h4> Updating value by key </h4>"
   ]
  },
  {
   "cell_type": "code",
   "execution_count": 5,
   "metadata": {},
   "outputs": [
    {
     "name": "stdout",
     "output_type": "stream",
     "text": [
      "gamma\n",
      "gamma2\n"
     ]
    }
   ],
   "source": [
    "print(example_dict['g'])\n",
    "\n",
    "example_dict['g'] = 'gamma2'\n",
    "\n",
    "print(example_dict['g'])"
   ]
  },
  {
   "cell_type": "markdown",
   "metadata": {},
   "source": [
    "<h4> Deleting a key-value pair </h4>"
   ]
  },
  {
   "cell_type": "code",
   "execution_count": 6,
   "metadata": {},
   "outputs": [
    {
     "name": "stdout",
     "output_type": "stream",
     "text": [
      "{'a': 'alpha', 'o': 'omega', 'g': 'gamma2', 'b': 'beta'}\n",
      "{'a': 'alpha', 'o': 'omega', 'g': 'gamma2'}\n"
     ]
    }
   ],
   "source": [
    "print(example_dict)\n",
    "del example_dict['b']\n",
    "print(example_dict)"
   ]
  },
  {
   "cell_type": "markdown",
   "metadata": {},
   "source": [
    "<h4> Adding new key-value pair </h4>"
   ]
  },
  {
   "cell_type": "code",
   "execution_count": 7,
   "metadata": {},
   "outputs": [
    {
     "data": {
      "text/plain": [
       "{'a': 'alpha', 'o': 'omega', 'g': 'gamma2', 'd': 'delta'}"
      ]
     },
     "execution_count": 7,
     "metadata": {},
     "output_type": "execute_result"
    }
   ],
   "source": [
    "new_dict = {'d':'delta'}\n",
    "example_dict.update(new_dict)\n",
    "\n",
    "example_dict"
   ]
  },
  {
   "cell_type": "markdown",
   "metadata": {},
   "source": [
    "<h4> Dictionary built-in functions </h4>"
   ]
  },
  {
   "cell_type": "code",
   "execution_count": 8,
   "metadata": {},
   "outputs": [
    {
     "name": "stdout",
     "output_type": "stream",
     "text": [
      "dict_keys(['a', 'o', 'g', 'd'])\n",
      "\n",
      "dict_values(['alpha', 'omega', 'gamma2', 'delta'])\n",
      "\n",
      "dict_items([('a', 'alpha'), ('o', 'omega'), ('g', 'gamma2'), ('d', 'delta')])\n",
      "\n",
      "key  : a\n",
      "value: alpha\n",
      "----------------------\n",
      "key  : o\n",
      "value: omega\n",
      "----------------------\n",
      "key  : g\n",
      "value: gamma2\n",
      "----------------------\n",
      "key  : d\n",
      "value: delta\n",
      "----------------------\n"
     ]
    }
   ],
   "source": [
    "# Get dict keys\n",
    "print(example_dict.keys())\n",
    "print()\n",
    "\n",
    "# Get dict values\n",
    "print(example_dict.values())\n",
    "print()\n",
    "\n",
    "\n",
    "# Return a list of key-value pairs\n",
    "print(example_dict.items())\n",
    "print()\n",
    "\n",
    "# Iterating through dictionary\n",
    "for k,v in example_dict.items():\n",
    "    print('key  :', k)\n",
    "    print('value:', v)\n",
    "    print('----------------------')"
   ]
  },
  {
   "cell_type": "markdown",
   "metadata": {},
   "source": [
    "<h4> Dictionary Excercise </h4>\n",
    "<ol>\n",
    "<li> Create a dictionary with 5 different key value pairs</li>\n",
    "<li> Print the dictionary</li>\n",
    "<li> Print the dictionary keys</li>\n",
    "<li> Print the dictionary values</li>\n",
    "<li> Print the the value for any key</li>\n",
    "<li> Change the value for any key</li>\n",
    "<li> Add a new key-pair value</li>\n",
    "<li> Iterate through through the dictionary and print the key and value for each pair</li>\n",
    "</ol>"
   ]
  },
  {
   "cell_type": "code",
   "execution_count": 9,
   "metadata": {},
   "outputs": [
    {
     "name": "stdout",
     "output_type": "stream",
     "text": [
      "{'A': 1, 'B': 2, 'C': 3, 'D': 4, 'E': 5}\n",
      "dict_keys(['A', 'B', 'C', 'D', 'E'])\n",
      "dict_values([1, 2, 3, 4, 5])\n",
      "1\n",
      "A 1\n",
      "B 2\n",
      "C 98\n",
      "D 4\n",
      "E 5\n",
      "F 6\n"
     ]
    }
   ],
   "source": [
    "example = {'A':1,'B':2,'C':3,'D':4,'E':5}\n",
    "print(example)\n",
    "print(example.keys())\n",
    "print(example.values())\n",
    "print(example['A'])\n",
    "example['C'] = '98'\n",
    "example['F'] = '6'\n",
    "for k,v in example.items():\n",
    "    print(k,v)\n"
   ]
  },
  {
   "cell_type": "code",
   "execution_count": 10,
   "metadata": {},
   "outputs": [
    {
     "data": {
      "text/plain": [
       "'9898'"
      ]
     },
     "execution_count": 10,
     "metadata": {},
     "output_type": "execute_result"
    }
   ],
   "source": [
    "'98'*2"
   ]
  },
  {
   "cell_type": "markdown",
   "metadata": {},
   "source": [
    "<h3> Project </h3> "
   ]
  },
  {
   "cell_type": "code",
   "execution_count": 46,
   "metadata": {},
   "outputs": [],
   "source": [
    "def get_domain(value):\n",
    "    if isinstance(value, str):\n",
    "        return value.split('@')[1].replace('.com', '')\n",
    "    else:\n",
    "        return value\n",
    "    \n",
    "def split_first(value):\n",
    "    if isinstance(value, str):\n",
    "        return value.split(\" \")[0]\n",
    "    else:\n",
    "        return value\n",
    "    \n",
    "def split_last(value):\n",
    "    if isinstance(value, str):\n",
    "        return value.split(\" \")[1]\n",
    "    else:\n",
    "        return value"
   ]
  },
  {
   "cell_type": "code",
   "execution_count": 47,
   "metadata": {},
   "outputs": [],
   "source": [
    "# Dictionary containing all available accounts\n",
    "all_accounts = pd.read_csv('report1552488200037.csv', encoding='latin-1')\n",
    "all_accounts['email_domain'] = all_accounts['Email'].apply(get_domain)\n",
    "all_accounts['First Name'] = all_accounts['First Name'].apply(lambda x:  x if isinstance(x,float) else x.lower())\n",
    "all_accounts['Last Name'] = all_accounts['Last Name'].apply(lambda x:  x if isinstance(x,float) else x.lower()) \n",
    "\n",
    "# Dictionary containing all contacts with no accounts\n",
    "no_account = pd.read_csv('contacts_no_accounts.csv', encoding='latin-1')\n",
    "no_account['email_domain'] = no_account['Email'].apply(get_domain)\n",
    "no_account['First Name'] = no_account['Full Name'].apply(split_first)\n",
    "no_account['Last Name'] = no_account['Full Name'].apply(split_last)\n",
    "no_account['First Name'] = no_account['First Name'].apply(lambda x:  x if isinstance(x,float) else x.lower())\n",
    "no_account['Last Name'] = no_account['Last Name'].apply(lambda x:  x if isinstance(x,float) else x.lower())"
   ]
  },
  {
   "cell_type": "code",
   "execution_count": 48,
   "metadata": {},
   "outputs": [
    {
     "data": {
      "text/html": [
       "<div>\n",
       "<style scoped>\n",
       "    .dataframe tbody tr th:only-of-type {\n",
       "        vertical-align: middle;\n",
       "    }\n",
       "\n",
       "    .dataframe tbody tr th {\n",
       "        vertical-align: top;\n",
       "    }\n",
       "\n",
       "    .dataframe thead th {\n",
       "        text-align: right;\n",
       "    }\n",
       "</style>\n",
       "<table border=\"1\" class=\"dataframe\">\n",
       "  <thead>\n",
       "    <tr style=\"text-align: right;\">\n",
       "      <th></th>\n",
       "      <th>Salutation</th>\n",
       "      <th>First Name</th>\n",
       "      <th>Last Name</th>\n",
       "      <th>Title</th>\n",
       "      <th>Mailing Street</th>\n",
       "      <th>Mailing City</th>\n",
       "      <th>Mailing Zip/Postal Code</th>\n",
       "      <th>Mailing State/Province (text only)</th>\n",
       "      <th>Mailing Country (text only)</th>\n",
       "      <th>Phone</th>\n",
       "      <th>Mobile</th>\n",
       "      <th>Fax</th>\n",
       "      <th>Email</th>\n",
       "      <th>Account Owner</th>\n",
       "      <th>Account Name</th>\n",
       "      <th>email_domain</th>\n",
       "    </tr>\n",
       "  </thead>\n",
       "  <tbody>\n",
       "    <tr>\n",
       "      <th>0</th>\n",
       "      <td>NaN</td>\n",
       "      <td>joe</td>\n",
       "      <td>grusman</td>\n",
       "      <td>Sr. Manager of Marketing Acquisition &amp; Emergin...</td>\n",
       "      <td>NaN</td>\n",
       "      <td>NaN</td>\n",
       "      <td>NaN</td>\n",
       "      <td>NaN</td>\n",
       "      <td>United States</td>\n",
       "      <td>+1 800 943 1633</td>\n",
       "      <td>NaN</td>\n",
       "      <td>702-943-7778</td>\n",
       "      <td>jgrusman@zappos.com</td>\n",
       "      <td>Marketing</td>\n",
       "      <td>Zappos</td>\n",
       "      <td>zappos</td>\n",
       "    </tr>\n",
       "  </tbody>\n",
       "</table>\n",
       "</div>"
      ],
      "text/plain": [
       "  Salutation First Name Last Name  \\\n",
       "0        NaN        joe   grusman   \n",
       "\n",
       "                                               Title Mailing Street  \\\n",
       "0  Sr. Manager of Marketing Acquisition & Emergin...            NaN   \n",
       "\n",
       "  Mailing City Mailing Zip/Postal Code Mailing State/Province (text only)  \\\n",
       "0          NaN                     NaN                                NaN   \n",
       "\n",
       "  Mailing Country (text only)            Phone Mobile           Fax  \\\n",
       "0               United States  +1 800 943 1633    NaN  702-943-7778   \n",
       "\n",
       "                 Email Account Owner Account Name email_domain  \n",
       "0  jgrusman@zappos.com     Marketing       Zappos       zappos  "
      ]
     },
     "execution_count": 48,
     "metadata": {},
     "output_type": "execute_result"
    }
   ],
   "source": [
    "all_accounts.head(1)"
   ]
  },
  {
   "cell_type": "code",
   "execution_count": 49,
   "metadata": {},
   "outputs": [
    {
     "data": {
      "text/html": [
       "<div>\n",
       "<style scoped>\n",
       "    .dataframe tbody tr th:only-of-type {\n",
       "        vertical-align: middle;\n",
       "    }\n",
       "\n",
       "    .dataframe tbody tr th {\n",
       "        vertical-align: top;\n",
       "    }\n",
       "\n",
       "    .dataframe thead th {\n",
       "        text-align: right;\n",
       "    }\n",
       "</style>\n",
       "<table border=\"1\" class=\"dataframe\">\n",
       "  <thead>\n",
       "    <tr style=\"text-align: right;\">\n",
       "      <th></th>\n",
       "      <th>Full Name</th>\n",
       "      <th>Email</th>\n",
       "      <th>Account Name: Account Name</th>\n",
       "      <th>Contact ID</th>\n",
       "      <th>email_domain</th>\n",
       "      <th>First Name</th>\n",
       "      <th>Last Name</th>\n",
       "    </tr>\n",
       "  </thead>\n",
       "  <tbody>\n",
       "    <tr>\n",
       "      <th>0</th>\n",
       "      <td>David Kalman</td>\n",
       "      <td>david.kalman@hal2l.com</td>\n",
       "      <td>NaN</td>\n",
       "      <td>0032A00002up33E</td>\n",
       "      <td>hal2l</td>\n",
       "      <td>david</td>\n",
       "      <td>kalman</td>\n",
       "    </tr>\n",
       "  </tbody>\n",
       "</table>\n",
       "</div>"
      ],
      "text/plain": [
       "      Full Name                   Email  Account Name: Account Name  \\\n",
       "0  David Kalman  david.kalman@hal2l.com                         NaN   \n",
       "\n",
       "        Contact ID email_domain First Name Last Name  \n",
       "0  0032A00002up33E        hal2l      david    kalman  "
      ]
     },
     "execution_count": 49,
     "metadata": {},
     "output_type": "execute_result"
    }
   ],
   "source": [
    "no_account.head(1)"
   ]
  },
  {
   "cell_type": "code",
   "execution_count": 50,
   "metadata": {},
   "outputs": [],
   "source": [
    "all_accounts = all_accounts.to_dict(orient='records')\n",
    "no_account = no_account.to_dict(orient='records')"
   ]
  },
  {
   "cell_type": "markdown",
   "metadata": {},
   "source": [
    "<h3> Find exact email matches between the two datasets </h3>\n",
    "<ol>\n",
    "<li> Iterate through both lists, find the exact email matches</li>\n",
    "<li> Append matches to another list</li>\n",
    "</ol>"
   ]
  },
  {
   "cell_type": "code",
   "execution_count": 13,
   "metadata": {},
   "outputs": [
    {
     "data": {
      "text/plain": [
       "dict_keys(['Full Name', 'Email', 'Account Name: Account Name', 'Contact ID', 'email_domain'])"
      ]
     },
     "execution_count": 13,
     "metadata": {},
     "output_type": "execute_result"
    }
   ],
   "source": [
    "no_account[0].keys()"
   ]
  },
  {
   "cell_type": "code",
   "execution_count": 14,
   "metadata": {},
   "outputs": [
    {
     "data": {
      "text/plain": [
       "{'Full Name': 'David Kalman',\n",
       " 'Email': 'david.kalman@hal2l.com',\n",
       " 'Account Name: Account Name': nan,\n",
       " 'Contact ID': '0032A00002up33E',\n",
       " 'email_domain': 'hal2l'}"
      ]
     },
     "execution_count": 14,
     "metadata": {},
     "output_type": "execute_result"
    }
   ],
   "source": [
    "no_account[0]"
   ]
  },
  {
   "cell_type": "code",
   "execution_count": 15,
   "metadata": {},
   "outputs": [
    {
     "data": {
      "text/plain": [
       "dict_keys(['Salutation', 'First Name', 'Last Name', 'Title', 'Mailing Street', 'Mailing City', 'Mailing Zip/Postal Code', 'Mailing State/Province (text only)', 'Mailing Country (text only)', 'Phone', 'Mobile', 'Fax', 'Email', 'Account Owner', 'Account Name', 'email_domain'])"
      ]
     },
     "execution_count": 15,
     "metadata": {},
     "output_type": "execute_result"
    }
   ],
   "source": [
    "all_accounts[0].keys()"
   ]
  },
  {
   "cell_type": "code",
   "execution_count": 16,
   "metadata": {},
   "outputs": [
    {
     "data": {
      "text/plain": [
       "{'Salutation': nan,\n",
       " 'First Name': 'Joe',\n",
       " 'Last Name': 'Grusman',\n",
       " 'Title': 'Sr. Manager of Marketing Acquisition & Emerging Platforms',\n",
       " 'Mailing Street': nan,\n",
       " 'Mailing City': nan,\n",
       " 'Mailing Zip/Postal Code': nan,\n",
       " 'Mailing State/Province (text only)': nan,\n",
       " 'Mailing Country (text only)': 'United States',\n",
       " 'Phone': '+1 800 943 1633',\n",
       " 'Mobile': nan,\n",
       " 'Fax': '702-943-7778',\n",
       " 'Email': 'jgrusman@zappos.com',\n",
       " 'Account Owner': 'Marketing',\n",
       " 'Account Name': 'Zappos',\n",
       " 'email_domain': 'zappos'}"
      ]
     },
     "execution_count": 16,
     "metadata": {},
     "output_type": "execute_result"
    }
   ],
   "source": [
    "all_accounts[0]"
   ]
  },
  {
   "cell_type": "code",
   "execution_count": 17,
   "metadata": {},
   "outputs": [
    {
     "data": {
      "text/plain": [
       "718"
      ]
     },
     "execution_count": 17,
     "metadata": {},
     "output_type": "execute_result"
    }
   ],
   "source": [
    "count = 0\n",
    "for contact in no_account:\n",
    "    for account in all_accounts:\n",
    "        if contact['Email'] == account['Email']:\n",
    "            contact['Account Name: Account Name']= account['Account Name']\n",
    "            \n",
    "            count+= 1\n",
    "            \n",
    "count"
   ]
  },
  {
   "cell_type": "code",
   "execution_count": 25,
   "metadata": {},
   "outputs": [],
   "source": [
    "not_matched=list()\n",
    "matched = list()\n",
    "for contact in no_account:\n",
    "    if isinstance(contact['Account Name: Account Name'],float):\n",
    "        not_matched.append(contact)\n",
    "    else:\n",
    "        matched.append(contact)"
   ]
  },
  {
   "cell_type": "code",
   "execution_count": 19,
   "metadata": {},
   "outputs": [
    {
     "data": {
      "text/plain": [
       "537"
      ]
     },
     "execution_count": 19,
     "metadata": {},
     "output_type": "execute_result"
    }
   ],
   "source": [
    "len(not_matched)"
   ]
  },
  {
   "cell_type": "code",
   "execution_count": 26,
   "metadata": {},
   "outputs": [
    {
     "data": {
      "text/plain": [
       "539"
      ]
     },
     "execution_count": 26,
     "metadata": {},
     "output_type": "execute_result"
    }
   ],
   "source": [
    "len(matched)"
   ]
  },
  {
   "cell_type": "code",
   "execution_count": 27,
   "metadata": {},
   "outputs": [
    {
     "data": {
      "text/html": [
       "<div>\n",
       "<style scoped>\n",
       "    .dataframe tbody tr th:only-of-type {\n",
       "        vertical-align: middle;\n",
       "    }\n",
       "\n",
       "    .dataframe tbody tr th {\n",
       "        vertical-align: top;\n",
       "    }\n",
       "\n",
       "    .dataframe thead th {\n",
       "        text-align: right;\n",
       "    }\n",
       "</style>\n",
       "<table border=\"1\" class=\"dataframe\">\n",
       "  <thead>\n",
       "    <tr style=\"text-align: right;\">\n",
       "      <th></th>\n",
       "      <th>Account Name: Account Name</th>\n",
       "      <th>Contact ID</th>\n",
       "      <th>Email</th>\n",
       "      <th>Full Name</th>\n",
       "      <th>email_domain</th>\n",
       "    </tr>\n",
       "  </thead>\n",
       "  <tbody>\n",
       "    <tr>\n",
       "      <th>0</th>\n",
       "      <td>HackerAgency</td>\n",
       "      <td>0032A00002up33E</td>\n",
       "      <td>david.kalman@hal2l.com</td>\n",
       "      <td>David Kalman</td>\n",
       "      <td>hal2l</td>\n",
       "    </tr>\n",
       "    <tr>\n",
       "      <th>1</th>\n",
       "      <td>Hanesbrands</td>\n",
       "      <td>0032A00002up33g</td>\n",
       "      <td>maria.burke@hanesbrands.com</td>\n",
       "      <td>Maria Talbert</td>\n",
       "      <td>hanesbrands</td>\n",
       "    </tr>\n",
       "    <tr>\n",
       "      <th>2</th>\n",
       "      <td>Allstate</td>\n",
       "      <td>0032A00002up32Z</td>\n",
       "      <td>kim.dunworth-miller@allstate.com</td>\n",
       "      <td>Kim Dunworth-Miller</td>\n",
       "      <td>allstate</td>\n",
       "    </tr>\n",
       "    <tr>\n",
       "      <th>3</th>\n",
       "      <td>Hanesbrands</td>\n",
       "      <td>0032A00002up098</td>\n",
       "      <td>michelle.mezzano@hanes.com</td>\n",
       "      <td>Michelle Mezzano</td>\n",
       "      <td>hanes</td>\n",
       "    </tr>\n",
       "    <tr>\n",
       "      <th>4</th>\n",
       "      <td>Allstate</td>\n",
       "      <td>0032A00002up3re</td>\n",
       "      <td>jlisz@allstate.com</td>\n",
       "      <td>James Liszka</td>\n",
       "      <td>allstate</td>\n",
       "    </tr>\n",
       "  </tbody>\n",
       "</table>\n",
       "</div>"
      ],
      "text/plain": [
       "  Account Name: Account Name       Contact ID  \\\n",
       "0               HackerAgency  0032A00002up33E   \n",
       "1                Hanesbrands  0032A00002up33g   \n",
       "2                   Allstate  0032A00002up32Z   \n",
       "3                Hanesbrands  0032A00002up098   \n",
       "4                   Allstate  0032A00002up3re   \n",
       "\n",
       "                              Email            Full Name email_domain  \n",
       "0            david.kalman@hal2l.com         David Kalman        hal2l  \n",
       "1       maria.burke@hanesbrands.com        Maria Talbert  hanesbrands  \n",
       "2  kim.dunworth-miller@allstate.com  Kim Dunworth-Miller     allstate  \n",
       "3        michelle.mezzano@hanes.com     Michelle Mezzano        hanes  \n",
       "4                jlisz@allstate.com         James Liszka     allstate  "
      ]
     },
     "execution_count": 27,
     "metadata": {},
     "output_type": "execute_result"
    }
   ],
   "source": [
    "output = pd.DataFrame().append(matched,ignore_index=True)\n",
    "output.head()"
   ]
  },
  {
   "cell_type": "code",
   "execution_count": 21,
   "metadata": {},
   "outputs": [
    {
     "data": {
      "text/plain": [
       "1076"
      ]
     },
     "execution_count": 21,
     "metadata": {},
     "output_type": "execute_result"
    }
   ],
   "source": [
    "len(no_account)"
   ]
  },
  {
   "cell_type": "code",
   "execution_count": 22,
   "metadata": {},
   "outputs": [
    {
     "data": {
      "text/plain": [
       "(1076, 5)"
      ]
     },
     "execution_count": 22,
     "metadata": {},
     "output_type": "execute_result"
    }
   ],
   "source": [
    "output.shape"
   ]
  },
  {
   "cell_type": "code",
   "execution_count": 28,
   "metadata": {},
   "outputs": [],
   "source": [
    "output.to_csv(\"no_account_matches.csv\",header=True,index=False)"
   ]
  },
  {
   "cell_type": "code",
   "execution_count": 24,
   "metadata": {},
   "outputs": [
    {
     "ename": "TypeError",
     "evalue": "list indices must be integers or slices, not str",
     "output_type": "error",
     "traceback": [
      "\u001b[1;31m---------------------------------------------------------------------------\u001b[0m",
      "\u001b[1;31mTypeError\u001b[0m                                 Traceback (most recent call last)",
      "\u001b[1;32m<ipython-input-24-3b8dafc60589>\u001b[0m in \u001b[0;36m<module>\u001b[1;34m\u001b[0m\n\u001b[0;32m      1\u001b[0m \u001b[0mmatches1\u001b[0m \u001b[1;33m=\u001b[0m \u001b[0mlist\u001b[0m\u001b[1;33m(\u001b[0m\u001b[1;33m)\u001b[0m\u001b[1;33m\u001b[0m\u001b[1;33m\u001b[0m\u001b[0m\n\u001b[0;32m      2\u001b[0m \u001b[1;33m\u001b[0m\u001b[0m\n\u001b[1;32m----> 3\u001b[1;33m \u001b[1;32mfor\u001b[0m \u001b[0me\u001b[0m \u001b[1;32min\u001b[0m \u001b[0mno_account\u001b[0m\u001b[1;33m[\u001b[0m\u001b[1;34m'email_domain'\u001b[0m\u001b[1;33m]\u001b[0m\u001b[1;33m:\u001b[0m\u001b[1;33m\u001b[0m\u001b[1;33m\u001b[0m\u001b[0m\n\u001b[0m\u001b[0;32m      4\u001b[0m     \u001b[1;32mfor\u001b[0m \u001b[0md\u001b[0m \u001b[1;32min\u001b[0m \u001b[0mall_accounts\u001b[0m\u001b[1;33m[\u001b[0m\u001b[1;34m'email_domain'\u001b[0m\u001b[1;33m]\u001b[0m\u001b[1;33m:\u001b[0m\u001b[1;33m\u001b[0m\u001b[1;33m\u001b[0m\u001b[0m\n\u001b[0;32m      5\u001b[0m         \u001b[1;32mif\u001b[0m \u001b[0me\u001b[0m \u001b[1;33m==\u001b[0m \u001b[0md\u001b[0m\u001b[1;33m:\u001b[0m\u001b[1;33m\u001b[0m\u001b[1;33m\u001b[0m\u001b[0m\n",
      "\u001b[1;31mTypeError\u001b[0m: list indices must be integers or slices, not str"
     ]
    }
   ],
   "source": [
    "matches1 = list()\n",
    "\n",
    "for e in no_account['email_domain']:\n",
    "    for d in all_accounts['email_domain']:\n",
    "        if e == d:\n",
    "            if e not in matches1:\n",
    "                matches1.append(e)\n",
    "\n",
    "print(matches1[0:50])"
   ]
  },
  {
   "cell_type": "markdown",
   "metadata": {},
   "source": [
    "<h3> Determine which accounts have the account name contained in the email</h3>\n",
    "<ol>\n",
    "<li> Create a new key call email domain and assign the email domain to it</li>\n",
    "</ol>"
   ]
  },
  {
   "cell_type": "code",
   "execution_count": null,
   "metadata": {},
   "outputs": [],
   "source": []
  }
 ],
 "metadata": {
  "hide_input": false,
  "kernelspec": {
   "display_name": "Python 3",
   "language": "python",
   "name": "python3"
  },
  "language_info": {
   "codemirror_mode": {
    "name": "ipython",
    "version": 3
   },
   "file_extension": ".py",
   "mimetype": "text/x-python",
   "name": "python",
   "nbconvert_exporter": "python",
   "pygments_lexer": "ipython3",
   "version": "3.7.1"
  },
  "toc": {
   "base_numbering": 1,
   "nav_menu": {},
   "number_sections": false,
   "sideBar": true,
   "skip_h1_title": false,
   "title_cell": "Table of Contents",
   "title_sidebar": "Contents",
   "toc_cell": false,
   "toc_position": {},
   "toc_section_display": true,
   "toc_window_display": false
  }
 },
 "nbformat": 4,
 "nbformat_minor": 2
}
