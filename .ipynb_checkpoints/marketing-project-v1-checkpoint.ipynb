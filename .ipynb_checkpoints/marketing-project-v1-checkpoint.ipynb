{
 "cells": [
  {
   "cell_type": "code",
   "execution_count": 1,
   "metadata": {},
   "outputs": [
    {
     "data": {
      "text/html": [
       "<style>.container { width:90% !important; }</style>"
      ],
      "text/plain": [
       "<IPython.core.display.HTML object>"
      ]
     },
     "metadata": {},
     "output_type": "display_data"
    }
   ],
   "source": [
    "import pandas as pd\n",
    "import numpy as np\n",
    "\n",
    "\n",
    "from IPython.core.display import display, HTML\n",
    "display(HTML(\"<style>.container { width:90% !important; }</style>\"))\n",
    "\n",
    "pd.set_option('display.max_columns', None)\n",
    "pd.set_option('display.max_rows', None)"
   ]
  },
  {
   "cell_type": "markdown",
   "metadata": {
    "hide_input": true
   },
   "source": [
    "<h1>Goal - Match contacts with no account to our Speedeon accounts from salesforce</h1>\n",
    "<hr>"
   ]
  },
  {
   "cell_type": "markdown",
   "metadata": {},
   "source": [
    "<h3> Dictionary - A dictionary consists of a collection of key-value pairs. Each key-value pair maps the key to its associated value</h3> \n",
    "<br />\n",
    "<img src=\"dict.png\"/>"
   ]
  },
  {
   "cell_type": "markdown",
   "metadata": {},
   "source": [
    "<h4> Creating Dictionary </h4>"
   ]
  },
  {
   "cell_type": "code",
   "execution_count": 2,
   "metadata": {},
   "outputs": [
    {
     "data": {
      "text/plain": [
       "{'a': 'alpha', 'o': 'omega', 'g': 'gamma'}"
      ]
     },
     "execution_count": 2,
     "metadata": {},
     "output_type": "execute_result"
    }
   ],
   "source": [
    "example_dict = {'a':'alpha', 'o':'omega', 'g': 'gamma'}\n",
    "example_dict"
   ]
  },
  {
   "cell_type": "markdown",
   "metadata": {},
   "source": [
    "<h4> Accesing Value by key </h4>"
   ]
  },
  {
   "cell_type": "code",
   "execution_count": 3,
   "metadata": {},
   "outputs": [
    {
     "data": {
      "text/plain": [
       "'alpha'"
      ]
     },
     "execution_count": 3,
     "metadata": {},
     "output_type": "execute_result"
    }
   ],
   "source": [
    "example_dict['a']"
   ]
  },
  {
   "cell_type": "markdown",
   "metadata": {},
   "source": [
    "<h4> Adding a new key </h4>"
   ]
  },
  {
   "cell_type": "code",
   "execution_count": 4,
   "metadata": {},
   "outputs": [
    {
     "data": {
      "text/plain": [
       "{'a': 'alpha', 'o': 'omega', 'g': 'gamma', 'b': 'beta'}"
      ]
     },
     "execution_count": 4,
     "metadata": {},
     "output_type": "execute_result"
    }
   ],
   "source": [
    "example_dict['b'] = 'beta'\n",
    "\n",
    "example_dict"
   ]
  },
  {
   "cell_type": "markdown",
   "metadata": {},
   "source": [
    "<h4> Updating value by key </h4>"
   ]
  },
  {
   "cell_type": "code",
   "execution_count": 5,
   "metadata": {},
   "outputs": [
    {
     "name": "stdout",
     "output_type": "stream",
     "text": [
      "gamma\n",
      "gamma2\n"
     ]
    }
   ],
   "source": [
    "print(example_dict['g'])\n",
    "\n",
    "example_dict['g'] = 'gamma2'\n",
    "\n",
    "print(example_dict['g'])"
   ]
  },
  {
   "cell_type": "markdown",
   "metadata": {},
   "source": [
    "<h4> Deleting a key-value pair </h4>"
   ]
  },
  {
   "cell_type": "code",
   "execution_count": 6,
   "metadata": {},
   "outputs": [
    {
     "name": "stdout",
     "output_type": "stream",
     "text": [
      "{'a': 'alpha', 'o': 'omega', 'g': 'gamma2', 'b': 'beta'}\n",
      "{'a': 'alpha', 'o': 'omega', 'g': 'gamma2'}\n"
     ]
    }
   ],
   "source": [
    "print(example_dict)\n",
    "del example_dict['b']\n",
    "print(example_dict)"
   ]
  },
  {
   "cell_type": "markdown",
   "metadata": {},
   "source": [
    "<h4> Adding new key-value pair </h4>"
   ]
  },
  {
   "cell_type": "code",
   "execution_count": 7,
   "metadata": {},
   "outputs": [
    {
     "data": {
      "text/plain": [
       "{'a': 'alpha', 'o': 'omega', 'g': 'gamma2', 'd': 'delta'}"
      ]
     },
     "execution_count": 7,
     "metadata": {},
     "output_type": "execute_result"
    }
   ],
   "source": [
    "new_dict = {'d':'delta'}\n",
    "example_dict.update(new_dict)\n",
    "\n",
    "example_dict"
   ]
  },
  {
   "cell_type": "markdown",
   "metadata": {},
   "source": [
    "<h4> Dictionary built-in functions </h4>"
   ]
  },
  {
   "cell_type": "code",
   "execution_count": 8,
   "metadata": {},
   "outputs": [
    {
     "name": "stdout",
     "output_type": "stream",
     "text": [
      "dict_keys(['a', 'o', 'g', 'd'])\n",
      "\n",
      "dict_values(['alpha', 'omega', 'gamma2', 'delta'])\n",
      "\n",
      "dict_items([('a', 'alpha'), ('o', 'omega'), ('g', 'gamma2'), ('d', 'delta')])\n",
      "\n",
      "key  : a\n",
      "value: alpha\n",
      "----------------------\n",
      "key  : o\n",
      "value: omega\n",
      "----------------------\n",
      "key  : g\n",
      "value: gamma2\n",
      "----------------------\n",
      "key  : d\n",
      "value: delta\n",
      "----------------------\n"
     ]
    }
   ],
   "source": [
    "# Get dict keys\n",
    "print(example_dict.keys())\n",
    "print()\n",
    "\n",
    "# Get dict values\n",
    "print(example_dict.values())\n",
    "print()\n",
    "\n",
    "\n",
    "# Return a list of key-value pairs\n",
    "print(example_dict.items())\n",
    "print()\n",
    "\n",
    "# Iterating through dictionary\n",
    "for k,v in example_dict.items():\n",
    "    print('key  :', k)\n",
    "    print('value:', v)\n",
    "    print('----------------------')"
   ]
  },
  {
   "cell_type": "markdown",
   "metadata": {},
   "source": [
    "<h4> Dictionary Excercise </h4>\n",
    "<ol>\n",
    "<li> Create a dictionary with 5 different key value pairs</li>\n",
    "<li> Print the dictionary</li>\n",
    "<li> Print the dictionary keys</li>\n",
    "<li> Print the dictionary values</li>\n",
    "<li> Print the the value for any key</li>\n",
    "<li> Change the value for any key</li>\n",
    "<li> Add a new key-pair value</li>\n",
    "<li> Iterate through through the dictionary and print the key and value for each pair</li>\n",
    "</ol>"
   ]
  },
  {
   "cell_type": "code",
   "execution_count": 10,
   "metadata": {},
   "outputs": [
    {
     "name": "stdout",
     "output_type": "stream",
     "text": [
      "{'A': 1, 'B': 2, 'C': 3, 'D': 4, 'E': 5}\n",
      "dict_keys(['A', 'B', 'C', 'D', 'E'])\n",
      "dict_values([1, 2, 3, 4, 5])\n",
      "4\n",
      "A 1\n",
      "B 2\n",
      "C 3\n",
      "D 97\n",
      "E 5\n",
      "F 100\n"
     ]
    }
   ],
   "source": [
    "example= {\"A\":1, \"B\":2, \"C\":3, \"D\":4, \"E\":5}\n",
    "print(example)\n",
    "print(example.keys())\n",
    "print(example.values())\n",
    "print(example['D'])\n",
    "example['D'] = 97\n",
    "new_dict = {'F':100}\n",
    "example.update(new_dict)\n",
    "for k,v in example.items():\n",
    "    print(k,v)"
   ]
  },
  {
   "cell_type": "markdown",
   "metadata": {},
   "source": [
    "<h3> Project </h3> "
   ]
  },
  {
   "cell_type": "code",
   "execution_count": 48,
   "metadata": {
    "collapsed": true
   },
   "outputs": [],
   "source": [
    "def get_domain(value):\n",
    "    if isinstance(value, str):\n",
    "        return value.split('@')[1].replace('.com', '')\n",
    "    else:\n",
    "        return value"
   ]
  },
  {
   "cell_type": "code",
   "execution_count": 49,
   "metadata": {},
   "outputs": [
    {
     "name": "stdout",
     "output_type": "stream",
     "text": [
      "0            zappos\n",
      "1    crossriverbank\n",
      "2             midco\n",
      "3            zappos\n",
      "4        collegeave\n",
      "Name: email_domain, dtype: object\n"
     ]
    }
   ],
   "source": [
    "# Dictionary containing all available accounts\n",
    "all_accounts = pd.read_csv('report1552488200037.csv', encoding='latin-1')\n",
    "all_accounts['email_domain'] = all_accounts['Email'].apply(get_domain)\n",
    "print(all_accounts['email_domain'][0:5])\n",
    "all_accounts = all_accounts.to_dict(orient='list')\n",
    "\n",
    "# Dictionary containing all contacts with no accounts\n",
    "no_account = pd.read_csv('contacts_no_accounts.csv', encoding='latin-1')\n",
    "no_account['email_domain'] = no_account['Email'].apply(get_domain)\n",
    "no_account = no_account.to_dict(orient='list')\n",
    "\n",
    "# We will save all matches to this dictionary\n",
    "match_dict = dict()"
   ]
  },
  {
   "cell_type": "code",
   "execution_count": 46,
   "metadata": {},
   "outputs": [
    {
     "name": "stdout",
     "output_type": "stream",
     "text": [
      "['jgrusman@zappos.com', 'cchen@crossriverbank.com', 'jacci.carey@midco.com', 'masnyder@zappos.com', 'sbacchia@collegeave.com']\n",
      "\n",
      "['david.kalman@hal2l.com', 'maria.burke@hanesbrands.com', 'kim.dunworth-miller@allstate.com', 'michelle.mezzano@hanes.com', 'maisonbellerealestate@gmail.com']\n"
     ]
    }
   ],
   "source": [
    "# Creating list variables\n",
    "\n",
    "account_emails = all_accounts['Email']\n",
    "no_account_emails = no_account['Email']\n",
    "\n",
    "# Example Data -\n",
    "print(account_emails[0:5])\n",
    "print()\n",
    "print(no_account_emails[0:5])"
   ]
  },
  {
   "cell_type": "markdown",
   "metadata": {},
   "source": [
    "<h3> Find exact email matches between the two datasets </h3>\n",
    "<ol>\n",
    "<li> Iterate through both lists, find the exact email matches</li>\n",
    "<li> Append matches to another list</li>\n",
    "</ol>"
   ]
  },
  {
   "cell_type": "code",
   "execution_count": null,
   "metadata": {
    "collapsed": true
   },
   "outputs": [],
   "source": [
    "matches1 = list()\n",
    "\n",
    "# Enter code here"
   ]
  },
  {
   "cell_type": "markdown",
   "metadata": {},
   "source": [
    "<h3> Determine which accounts have the account name contained in the email</h3>\n",
    "<ol>\n",
    "<li> Create a new key call email domain and assign the email domain to it</li>\n",
    "</ol>"
   ]
  },
  {
   "cell_type": "code",
   "execution_count": null,
   "metadata": {
    "collapsed": true
   },
   "outputs": [],
   "source": []
  }
 ],
 "metadata": {
  "hide_input": false,
  "kernelspec": {
   "display_name": "Python 3",
   "language": "python",
   "name": "python3"
  },
  "language_info": {
   "codemirror_mode": {
    "name": "ipython",
    "version": 3
   },
   "file_extension": ".py",
   "mimetype": "text/x-python",
   "name": "python",
   "nbconvert_exporter": "python",
   "pygments_lexer": "ipython3",
   "version": "3.7.1"
  },
  "toc": {
   "base_numbering": 1,
   "nav_menu": {},
   "number_sections": false,
   "sideBar": true,
   "skip_h1_title": false,
   "title_cell": "Table of Contents",
   "title_sidebar": "Contents",
   "toc_cell": false,
   "toc_position": {},
   "toc_section_display": true,
   "toc_window_display": false
  }
 },
 "nbformat": 4,
 "nbformat_minor": 2
}
