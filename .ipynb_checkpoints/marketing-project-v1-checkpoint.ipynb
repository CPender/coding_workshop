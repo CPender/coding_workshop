{
 "cells": [
  {
   "cell_type": "code",
   "execution_count": null,
   "metadata": {},
   "outputs": [],
   "source": [
    "import pandas as pd\n",
    "import numpy as np\n",
    "\n",
    "\n",
    "from IPython.core.display import display, HTML\n",
    "display(HTML(\"<style>.container { width:90% !important; }</style>\"))\n",
    "\n",
    "pd.set_option('display.max_columns', None)\n",
    "pd.set_option('display.max_rows', None)"
   ]
  },
  {
   "cell_type": "markdown",
   "metadata": {
    "hide_input": true
   },
   "source": [
    "<h1>Goal - Match contacts with no account to our Speedeon accounts from salesforce</h1>\n",
    "<hr>"
   ]
  },
  {
   "cell_type": "markdown",
   "metadata": {},
   "source": [
    "<h3> Dictionary - A dictionary consists of a collection of key-value pairs. Each key-value pair maps the key to its associated value</h3> \n",
    "<br />\n",
    "<img src=\"dict.png\"/>"
   ]
  },
  {
   "cell_type": "markdown",
   "metadata": {},
   "source": [
    "<h4> Creating Dictionary </h4>"
   ]
  },
  {
   "cell_type": "code",
   "execution_count": null,
   "metadata": {},
   "outputs": [],
   "source": [
    "example_dict = {'a':'alpha', 'o':'omega', 'g': 'gamma'}\n",
    "example_dict"
   ]
  },
  {
   "cell_type": "markdown",
   "metadata": {},
   "source": [
    "<h4> Accesing Value by key </h4>"
   ]
  },
  {
   "cell_type": "code",
   "execution_count": null,
   "metadata": {},
   "outputs": [],
   "source": [
    "example_dict['a']"
   ]
  },
  {
   "cell_type": "markdown",
   "metadata": {},
   "source": [
    "<h4> Adding a new key </h4>"
   ]
  },
  {
   "cell_type": "code",
   "execution_count": null,
   "metadata": {},
   "outputs": [],
   "source": [
    "example_dict['b'] = 'beta'\n",
    "\n",
    "example_dict"
   ]
  },
  {
   "cell_type": "markdown",
   "metadata": {},
   "source": [
    "<h4> Updating value by key </h4>"
   ]
  },
  {
   "cell_type": "code",
   "execution_count": null,
   "metadata": {},
   "outputs": [],
   "source": [
    "print(example_dict['g'])\n",
    "\n",
    "example_dict['g'] = 'gamma2'\n",
    "\n",
    "print(example_dict['g'])"
   ]
  },
  {
   "cell_type": "markdown",
   "metadata": {},
   "source": [
    "<h4> Deleting a key-value pair </h4>"
   ]
  },
  {
   "cell_type": "code",
   "execution_count": null,
   "metadata": {},
   "outputs": [],
   "source": [
    "print(example_dict)\n",
    "del example_dict['b']\n",
    "print(example_dict)"
   ]
  },
  {
   "cell_type": "markdown",
   "metadata": {},
   "source": [
    "<h4> Adding new key-value pair </h4>"
   ]
  },
  {
   "cell_type": "code",
   "execution_count": null,
   "metadata": {},
   "outputs": [],
   "source": [
    "new_dict = {'d':'delta'}\n",
    "example_dict.update(new_dict)\n",
    "\n",
    "example_dict"
   ]
  },
  {
   "cell_type": "markdown",
   "metadata": {},
   "source": [
    "<h4> Dictionary built-in functions </h4>"
   ]
  },
  {
   "cell_type": "code",
   "execution_count": null,
   "metadata": {},
   "outputs": [],
   "source": [
    "# Get dict keys\n",
    "print(example_dict.keys())\n",
    "print()\n",
    "\n",
    "# Get dict values\n",
    "print(example_dict.values())\n",
    "print()\n",
    "\n",
    "\n",
    "# Return a list of key-value pairs\n",
    "print(example_dict.items())\n",
    "print()\n",
    "\n",
    "# Iterating through dictionary\n",
    "for k,v in example_dict.items():\n",
    "    print('key  :', k)\n",
    "    print('value:', v)\n",
    "    print('----------------------')"
   ]
  },
  {
   "cell_type": "markdown",
   "metadata": {},
   "source": [
    "<h4> Dictionary Excercise </h4>\n",
    "<ol>\n",
    "<li> Create a dictionary with 5 different key value pairs</li>\n",
    "<li> Print the dictionary</li>\n",
    "<li> Print the dictionary keys</li>\n",
    "<li> Print the dictionary values</li>\n",
    "<li> Print the the value for any key</li>\n",
    "<li> Change the value for any key</li>\n",
    "<li> Add a new key-pair value</li>\n",
    "<li> Iterate through through the dictionary and print the key and value for each pair</li>\n",
    "</ol>"
   ]
  },
  {
   "cell_type": "code",
   "execution_count": null,
   "metadata": {},
   "outputs": [],
   "source": [
    "example = {'A':1,'B':2,'C':3,'D':4,'E':5}\n",
    "print(example)\n",
    "print(example.keys())\n",
    "print(example.values())\n",
    "print(example['A'])\n",
    "example['C'] = '98'\n",
    "example['F'] = '6'\n",
    "for k,v in example.items():\n",
    "    print(k,v)\n"
   ]
  },
  {
   "cell_type": "code",
   "execution_count": null,
   "metadata": {},
   "outputs": [],
   "source": [
    "'98'*2"
   ]
  },
  {
   "cell_type": "markdown",
   "metadata": {},
   "source": [
    "<h3> Project </h3> "
   ]
  },
  {
   "cell_type": "code",
   "execution_count": null,
   "metadata": {},
   "outputs": [],
   "source": [
    "def get_domain(value):\n",
    "    if isinstance(value, str):\n",
    "        return value.split('@')[1].replace('.com', '')\n",
    "    else:\n",
    "        return value"
   ]
  },
  {
   "cell_type": "code",
   "execution_count": null,
   "metadata": {},
   "outputs": [],
   "source": [
    "# Dictionary containing all available accounts\n",
    "all_accounts = pd.read_csv('report1552488200037.csv', encoding='latin-1')\n",
    "all_accounts['email_domain'] = all_accounts['Email'].apply(get_domain)\n",
    "print(all_accounts['email_domain'][0:5])\n",
    "all_accounts = all_accounts.to_dict(orient='records')\n",
    "\n",
    "# Dictionary containing all contacts with no accounts\n",
    "no_account = pd.read_csv('contacts_no_accounts.csv', encoding='latin-1')\n",
    "no_account['email_domain'] = no_account['Email'].apply(get_domain)\n",
    "no_account = no_account.to_dict(orient='records')\n",
    "\n",
    "# We will save all matches to this dictionary\n",
    "match_dict = dict()"
   ]
  },
  {
   "cell_type": "markdown",
   "metadata": {},
   "source": [
    "<h3> Find exact email matches between the two datasets </h3>\n",
    "<ol>\n",
    "<li> Iterate through both lists, find the exact email matches</li>\n",
    "<li> Append matches to another list</li>\n",
    "</ol>"
   ]
  },
  {
   "cell_type": "code",
   "execution_count": null,
   "metadata": {},
   "outputs": [],
   "source": [
    "no_account[0].keys()"
   ]
  },
  {
   "cell_type": "code",
   "execution_count": null,
   "metadata": {},
   "outputs": [],
   "source": [
    "no_account[0]"
   ]
  },
  {
   "cell_type": "code",
   "execution_count": null,
   "metadata": {},
   "outputs": [],
   "source": [
    "all_accounts[0].keys()"
   ]
  },
  {
   "cell_type": "code",
   "execution_count": null,
   "metadata": {},
   "outputs": [],
   "source": [
    "all_accounts[0]"
   ]
  },
  {
   "cell_type": "code",
   "execution_count": null,
   "metadata": {},
   "outputs": [],
   "source": [
    "count = 0\n",
    "for contact in no_account:\n",
    "    for account in all_accounts:\n",
    "        if contact['Email'] == account['Email']:\n",
    "            contact['Account Name: Account Name']= account['Account Name']\n",
    "            \n",
    "            count+= 1\n",
    "            \n",
    "count"
   ]
  },
  {
   "cell_type": "code",
   "execution_count": null,
   "metadata": {},
   "outputs": [],
   "source": [
    "for contact in no_account:\n",
    "    if isinstance(contact['Account Name: Account Name'],float):\n",
    "        print(contact)"
   ]
  },
  {
   "cell_type": "code",
   "execution_count": 33,
   "metadata": {},
   "outputs": [
    {
     "data": {
      "text/html": [
       "<div>\n",
       "<style scoped>\n",
       "    .dataframe tbody tr th:only-of-type {\n",
       "        vertical-align: middle;\n",
       "    }\n",
       "\n",
       "    .dataframe tbody tr th {\n",
       "        vertical-align: top;\n",
       "    }\n",
       "\n",
       "    .dataframe thead th {\n",
       "        text-align: right;\n",
       "    }\n",
       "</style>\n",
       "<table border=\"1\" class=\"dataframe\">\n",
       "  <thead>\n",
       "    <tr style=\"text-align: right;\">\n",
       "      <th></th>\n",
       "      <th>Account Name: Account Name</th>\n",
       "      <th>Contact ID</th>\n",
       "      <th>Email</th>\n",
       "      <th>Full Name</th>\n",
       "      <th>email_domain</th>\n",
       "    </tr>\n",
       "  </thead>\n",
       "  <tbody>\n",
       "    <tr>\n",
       "      <th>0</th>\n",
       "      <td>HackerAgency</td>\n",
       "      <td>0032A00002up33E</td>\n",
       "      <td>david.kalman@hal2l.com</td>\n",
       "      <td>David Kalman</td>\n",
       "      <td>hal2l</td>\n",
       "    </tr>\n",
       "    <tr>\n",
       "      <th>1</th>\n",
       "      <td>Hanesbrands</td>\n",
       "      <td>0032A00002up33g</td>\n",
       "      <td>maria.burke@hanesbrands.com</td>\n",
       "      <td>Maria Talbert</td>\n",
       "      <td>hanesbrands</td>\n",
       "    </tr>\n",
       "    <tr>\n",
       "      <th>2</th>\n",
       "      <td>Allstate</td>\n",
       "      <td>0032A00002up32Z</td>\n",
       "      <td>kim.dunworth-miller@allstate.com</td>\n",
       "      <td>Kim Dunworth-Miller</td>\n",
       "      <td>allstate</td>\n",
       "    </tr>\n",
       "    <tr>\n",
       "      <th>3</th>\n",
       "      <td>Hanesbrands</td>\n",
       "      <td>0032A00002up098</td>\n",
       "      <td>michelle.mezzano@hanes.com</td>\n",
       "      <td>Michelle Mezzano</td>\n",
       "      <td>hanes</td>\n",
       "    </tr>\n",
       "    <tr>\n",
       "      <th>4</th>\n",
       "      <td>NaN</td>\n",
       "      <td>0032A00002up2GX</td>\n",
       "      <td>maisonbellerealestate@gmail.com</td>\n",
       "      <td>Tammy Rankin</td>\n",
       "      <td>gmail</td>\n",
       "    </tr>\n",
       "  </tbody>\n",
       "</table>\n",
       "</div>"
      ],
      "text/plain": [
       "  Account Name: Account Name       Contact ID  \\\n",
       "0               HackerAgency  0032A00002up33E   \n",
       "1                Hanesbrands  0032A00002up33g   \n",
       "2                   Allstate  0032A00002up32Z   \n",
       "3                Hanesbrands  0032A00002up098   \n",
       "4                        NaN  0032A00002up2GX   \n",
       "\n",
       "                              Email            Full Name email_domain  \n",
       "0            david.kalman@hal2l.com         David Kalman        hal2l  \n",
       "1       maria.burke@hanesbrands.com        Maria Talbert  hanesbrands  \n",
       "2  kim.dunworth-miller@allstate.com  Kim Dunworth-Miller     allstate  \n",
       "3        michelle.mezzano@hanes.com     Michelle Mezzano        hanes  \n",
       "4   maisonbellerealestate@gmail.com         Tammy Rankin        gmail  "
      ]
     },
     "execution_count": 33,
     "metadata": {},
     "output_type": "execute_result"
    }
   ],
   "source": [
    "output = pd.DataFrame().append(no_account,ignore_index=True)\n",
    "output.head()"
   ]
  },
  {
   "cell_type": "code",
   "execution_count": 34,
   "metadata": {},
   "outputs": [],
   "source": [
    "output.to_csv(\"no_account_matches.csv\",header=True,index=False)"
   ]
  },
  {
   "cell_type": "code",
   "execution_count": null,
   "metadata": {},
   "outputs": [],
   "source": [
    "matches1 = list()\n",
    "\n",
    "for e in no_account['email_domain']:\n",
    "    for d in all_accounts['email_domain']:\n",
    "        if e == d:\n",
    "            if e not in matches1:\n",
    "                matches1.append(e)\n",
    "\n",
    "print(matches1[0:50])"
   ]
  },
  {
   "cell_type": "markdown",
   "metadata": {},
   "source": [
    "<h3> Determine which accounts have the account name contained in the email</h3>\n",
    "<ol>\n",
    "<li> Create a new key call email domain and assign the email domain to it</li>\n",
    "</ol>"
   ]
  },
  {
   "cell_type": "code",
   "execution_count": null,
   "metadata": {},
   "outputs": [],
   "source": []
  }
 ],
 "metadata": {
  "hide_input": false,
  "kernelspec": {
   "display_name": "Python 3",
   "language": "python",
   "name": "python3"
  },
  "language_info": {
   "codemirror_mode": {
    "name": "ipython",
    "version": 3
   },
   "file_extension": ".py",
   "mimetype": "text/x-python",
   "name": "python",
   "nbconvert_exporter": "python",
   "pygments_lexer": "ipython3",
   "version": "3.7.1"
  },
  "toc": {
   "base_numbering": 1,
   "nav_menu": {},
   "number_sections": false,
   "sideBar": true,
   "skip_h1_title": false,
   "title_cell": "Table of Contents",
   "title_sidebar": "Contents",
   "toc_cell": false,
   "toc_position": {},
   "toc_section_display": true,
   "toc_window_display": false
  }
 },
 "nbformat": 4,
 "nbformat_minor": 2
}
