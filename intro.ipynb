{
 "cells": [
  {
   "cell_type": "code",
   "execution_count": 3,
   "metadata": {},
   "outputs": [
    {
     "name": "stdout",
     "output_type": "stream",
     "text": [
      "what is your name?Calanja\n",
      "how old are you?14\n"
     ]
    }
   ],
   "source": [
    "name = input(\"what is your name?\")\n",
    "\n",
    "age = input(\"how old are you?\")\n",
    "age = int(age)"
   ]
  },
  {
   "cell_type": "code",
   "execution_count": 4,
   "metadata": {},
   "outputs": [
    {
     "name": "stdout",
     "output_type": "stream",
     "text": [
      "still in high school\n",
      "Calanja 14\n"
     ]
    }
   ],
   "source": [
    "if age <18:\n",
    "    print(\"still in high school\")\n",
    "    print(name,age)\n",
    "else:\n",
    "    salary = input(\"how much do you make?\")\n",
    "    print(\"not in high school\")\n",
    "    print(name,age,salary)"
   ]
  },
  {
   "cell_type": "code",
   "execution_count": null,
   "metadata": {},
   "outputs": [],
   "source": []
  }
 ],
 "metadata": {
  "kernelspec": {
   "display_name": "Python 3",
   "language": "python",
   "name": "python3"
  },
  "language_info": {
   "codemirror_mode": {
    "name": "ipython",
    "version": 3
   },
   "file_extension": ".py",
   "mimetype": "text/x-python",
   "name": "python",
   "nbconvert_exporter": "python",
   "pygments_lexer": "ipython3",
   "version": "3.7.1"
  }
 },
 "nbformat": 4,
 "nbformat_minor": 2
}
