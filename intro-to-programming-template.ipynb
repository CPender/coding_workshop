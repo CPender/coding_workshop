{
 "cells": [
  {
   "cell_type": "markdown",
   "metadata": {},
   "source": [
    "# Vocab"
   ]
  },
  {
   "cell_type": "markdown",
   "metadata": {},
   "source": [
    "<h3> What is a programming language? </h3>\n",
    "<h3> What programming language are we using? </h3>\n",
    "<h3> What tool or IDE are we using to write code? </h3>\n",
    "\n",
    "<h3> What is a variable?</h3>\n",
    "<h3> What are the differnt types of data types?</h3>"
   ]
  },
  {
   "cell_type": "code",
   "execution_count": 1,
   "metadata": {
    "collapsed": true
   },
   "outputs": [],
   "source": [
    "import random"
   ]
  },
  {
   "cell_type": "markdown",
   "metadata": {},
   "source": [
    "# Keyboard Input / Variables"
   ]
  },
  {
   "cell_type": "markdown",
   "metadata": {},
   "source": [
    "<h3> Name, Age, and salary </h3>\n",
    "<ol>\n",
    "    <li>Ask the user for their name. </li>\n",
    "    <li>Print the name of the user. </li>\n",
    "    <li>Ask the user their age</li>\n",
    "    <li>Print the age of the user.</li>\n",
    "    <li>Ask the user how much they make.</li>\n",
    "    <li>Print the users salary. </li>\n",
    "</ol>"
   ]
  },
  {
   "cell_type": "code",
   "execution_count": null,
   "metadata": {
    "collapsed": true
   },
   "outputs": [],
   "source": [
    "name= input(\"what is your name?\")\n",
    "print(name)\n",
    "age = input(\"what is your age?\")\n",
    "print(age)\n",
    "salary = input(\"what is your salary?\")\n",
    "print(salary)"
   ]
  },
  {
   "cell_type": "markdown",
   "metadata": {},
   "source": [
    "<h3> Age in 5 years </h3>\n",
    "<ol>\n",
    "    <li>Ask the user for their name. </li>\n",
    "    <li>Print the name of the user. </li>\n",
    "    <li>Ask the user their age</li>\n",
    "    <li>Print what the age of the user will be 5 years from now.</li>\n",
    "    <li>Print what the age of the user would of been 5 years ago.</li>\n",
    "</ol>"
   ]
  },
  {
   "cell_type": "code",
   "execution_count": null,
   "metadata": {
    "collapsed": true
   },
   "outputs": [],
   "source": [
    "name= input(\"what is your name?\")\n",
    "print(name)\n",
    "age = input(\"what is your age?\")\n",
    "age = int(age)\n",
    "print(\"5 years from now your age will be\",age+5)\n",
    "print(\"5 years ago from now your age will be\",age-5)"
   ]
  },
  {
   "cell_type": "markdown",
   "metadata": {},
   "source": [
    "<h3>A dumb calculator </h3>\n",
    "<ol>\n",
    "    <li>Ask the user to enter 3 numbers </li>\n",
    "    <li>Add the numbers together and divide by 2 </li>\n",
    "    <li>Print the result</li>\n",
    "</ol>"
   ]
  },
  {
   "cell_type": "code",
   "execution_count": null,
   "metadata": {
    "collapsed": true
   },
   "outputs": [],
   "source": [
    "number1 = input(\"enter first number\")\n",
    "number2 = input(\"enter second number\")\n",
    "number3 = input(\"enter third number\")\n",
    "number1 = int(number1)\n",
    "number2 = int(number2)\n",
    "number3 = int(number3)\n",
    "\n",
    "result = (number1 + number2 + number3) /2\n",
    "print(result)"
   ]
  },
  {
   "cell_type": "markdown",
   "metadata": {},
   "source": [
    "<h3>Simple Free throw percentage calculator </h3>\n",
    "<ol>\n",
    "    <li>Ask the user for number of free throw shots attempted</li>\n",
    "    <li>Ask the user how many of the free throw shots they made</li>\n",
    "    <li>Calculate the free throw percentage</li>\n",
    "\n",
    "</ol>"
   ]
  },
  {
   "cell_type": "code",
   "execution_count": null,
   "metadata": {
    "collapsed": true
   },
   "outputs": [],
   "source": [
    "number1 = input(\"free throw shots attempted\")\n",
    "number1 = float(number1)\n",
    "number2 = input(\"free throw shots made\")\n",
    "number2 = float(number2)\n",
    "\n",
    "\n",
    "result = (number2/ number1)\n",
    "print(result)"
   ]
  },
  {
   "cell_type": "markdown",
   "metadata": {},
   "source": [
    "<h3>Simple field goal percentage calculator </h3>\n",
    "<ol>\n",
    "    <li>Ask the user for the stats needed to caclaulate field goal percentage</li>\n",
    "    <li>Calculate the field goal percentage</li>\n",
    "</ol>"
   ]
  },
  {
   "cell_type": "code",
   "execution_count": null,
   "metadata": {
    "collapsed": true
   },
   "outputs": [],
   "source": [
    "attempted = input(\"how many field goals attempted\")\n",
    "made = input(\"how many field goals made\")\n",
    "attempted = float(attempted)\n",
    "made = float(made)\n",
    "pct = made/attempted\n",
    "print(pct)"
   ]
  },
  {
   "cell_type": "markdown",
   "metadata": {},
   "source": [
    "# If Statements"
   ]
  },
  {
   "cell_type": "markdown",
   "metadata": {},
   "source": [
    "<p>The if/else statement executes a block of code if a specified condition is true.</p>\n",
    "<p>If the condition is false, another block of code can be executed.</p>"
   ]
  },
  {
   "cell_type": "markdown",
   "metadata": {},
   "source": [
    "<h3>How Old Are You?</h3>\n",
    "<p>Make a program which displays a different message depending on the age given. Here are the possible responses:</p>\n",
    "<ol>\n",
    "    <li>Ask user to input their age (make sure is Integer)</li>\n",
    "    <li>age is less than 16, say \"You can't drive.\"</li>\n",
    "    <li>age is less than 18, say \"You can't vote.\"</li>\n",
    "    <li>age is less than 25, say \"You can't rent a car.\"</li>\n",
    "    <li>age is 25 or over, say \"You can do anything that's legal.\"</li>\n",
    "</ol>"
   ]
  },
  {
   "cell_type": "code",
   "execution_count": null,
   "metadata": {
    "collapsed": true
   },
   "outputs": [],
   "source": [
    "age = input(\"what is your age\")\n",
    "age = int(age)\n",
    "if age <16:\n",
    "    print(\"you cant drive\")\n",
    "elif age <18:\n",
    "    print(\"you cant vote\")\n",
    "elif age <25:\n",
    "    print(\"you cant rent a car\")\n",
    "elif age >=25:\n",
    "    print(\"you can do anything that's legal\")"
   ]
  },
  {
   "cell_type": "markdown",
   "metadata": {},
   "source": [
    "<h3> Weekday Name </h3>\n",
    "<p>I wrote a function below that will return the name of a day of the week given the day number. Finish the function by writing the logic that applies our end result.</p>"
   ]
  },
  {
   "cell_type": "code",
   "execution_count": null,
   "metadata": {
    "collapsed": true
   },
   "outputs": [],
   "source": [
    "def return_name_of_day(number):\n",
    "    day = None\n",
    "    \n",
    "    if number == 1:\n",
    "        day = \"sunday\"\n",
    "    elif number == 2:\n",
    "        day = \"monday\"\n",
    "    elif number == 3:\n",
    "        day = \"tuesday\"\n",
    "    elif number == 4:\n",
    "        day = \"wednesday\"\n",
    "    elif number == 5:\n",
    "        day = \"thursday\"\n",
    "    elif number == 6:\n",
    "        day = \"friday\"\n",
    "    elif number == 7:\n",
    "        day = \"saturday\"\n",
    "    else:\n",
    "        day = \"not available\"\n",
    "    \n",
    "    \n",
    "    return day"
   ]
  },
  {
   "cell_type": "code",
   "execution_count": null,
   "metadata": {
    "collapsed": true
   },
   "outputs": [],
   "source": [
    "result = return_name_of_day(5)\n",
    "print(result)"
   ]
  },
  {
   "cell_type": "markdown",
   "metadata": {},
   "source": [
    "# While Statements -   "
   ]
  },
  {
   "cell_type": "markdown",
   "metadata": {},
   "source": [
    "<p> A while loop is a control flow statement that allows code to be executed repeatedly based on a given Boolean condition.</p>\n",
    "<p>The while loop can be thought of as a repeating if statement. </p>"
   ]
  },
  {
   "cell_type": "markdown",
   "metadata": {},
   "source": [
    "<h3>Keep Guessing</h3>\n",
    "<ol>\n",
    "<li>Pick a random number from 1 to 10</li>\n",
    "<li>Have the user try to guess the number until they get it correct</li>\n",
    "</ol>"
   ]
  },
  {
   "cell_type": "code",
   "execution_count": 4,
   "metadata": {},
   "outputs": [
    {
     "name": "stdout",
     "output_type": "stream",
     "text": [
      "pick a number between 1 through 105\n",
      "pick a number between 1 through 104\n",
      "pick a number between 1 through 102\n",
      "pick a number between 1 through 101\n",
      "pick a number between 1 through 107\n",
      "pick a number between 1 through 106\n",
      "pick a number between 1 through 108\n",
      "that's correct\n"
     ]
    }
   ],
   "source": [
    "num = random.randint(1,10)\n",
    "correct = False\n",
    "while correct == False:\n",
    "    user_number = input(\"pick a number between 1 through 10\")\n",
    "    user_number = int(user_number)\n",
    "    if user_number == num:\n",
    "        correct = True \n",
    "        print(\"that's correct\")\n",
    "        "
   ]
  },
  {
   "cell_type": "markdown",
   "metadata": {},
   "source": [
    "<h3>Counting with a While Loop</h3>\n",
    "<ol>\n",
    "    <li>Ask the user to enter a message</li>\n",
    "    <li>Ask the user how many times they want to display the message</li>\n",
    "    <li>Display the message the user entered and display it the number of times they specified</li>\n",
    "</ol>"
   ]
  },
  {
   "cell_type": "code",
   "execution_count": 2,
   "metadata": {},
   "outputs": [
    {
     "name": "stdout",
     "output_type": "stream",
     "text": [
      "enter a messagehello\n",
      "how many times do you want to display this?5\n",
      "hello\n",
      "hello\n",
      "hello\n",
      "hello\n",
      "hello\n"
     ]
    }
   ],
   "source": [
    "message = input(\"enter a message\")\n",
    "num = int(input(\"how many times do you want to display this?\"))\n",
    "counter = 1\n",
    "while counter<=num:\n",
    "    print(message)\n",
    "    counter+=1"
   ]
  },
  {
   "cell_type": "markdown",
   "metadata": {},
   "source": [
    "<h3>Adding value in a loop</h3>\n",
    "<ol>\n",
    "    <li>Ask the user to enter numbers to add up</li>\n",
    "    <li>After the enter a number, output the running total</li>\n",
    "    <li>Keep asking the user until they enter a 0</li>\n",
    "</ol>"
   ]
  },
  {
   "cell_type": "code",
   "execution_count": 3,
   "metadata": {},
   "outputs": [
    {
     "name": "stdout",
     "output_type": "stream",
     "text": [
      "enter a number5\n",
      "5\n",
      "enter a number6\n",
      "11\n",
      "enter a number7\n",
      "18\n",
      "enter a number0\n"
     ]
    }
   ],
   "source": [
    "running_total = 0\n",
    "stop = False\n",
    "while stop == False:\n",
    "    number1 = int(input(\"enter a number\"))\n",
    "    if number1 == 0:\n",
    "        stop = True \n",
    "    else:\n",
    "        running_total += number1\n",
    "        print(running_total)"
   ]
  },
  {
   "cell_type": "markdown",
   "metadata": {},
   "source": [
    "# For Loops"
   ]
  },
  {
   "cell_type": "markdown",
   "metadata": {},
   "source": [
    "<p>A for-loop (or simply for loop) is a control flow statement for specifying iteration, which allows code to be executed repeatedly.</p>"
   ]
  },
  {
   "cell_type": "markdown",
   "metadata": {},
   "source": [
    "<h3>Counting Machine</h3>\n",
    "<ol>\n",
    "    <li>Ask the user to enter a number between 1-100</li>\n",
    "    <li>Using a for loop, print a count from 0 to the users number</li>\n",
    "</ol>  \n",
    "<p>\n",
    "Example -  \n",
    "  \n",
    "Count to: 19  \n",
    "0 1 2 3 4 5 6 7 8 9 10 11 12 13 14 15 16 17 18 19  \n",
    "</p>"
   ]
  },
  {
   "cell_type": "code",
   "execution_count": 5,
   "metadata": {
    "collapsed": true
   },
   "outputs": [],
   "source": []
  },
  {
   "cell_type": "markdown",
   "metadata": {},
   "source": [
    "<h3>Counting Machine V2</h3>\n",
    "<ol>\n",
    "    <li>Ask the user to enter a number three numbers</li>\n",
    "    <li>Count from the FIRST number to the SECOND number in increments of the 3rd number</li>\n",
    "</ol>  \n",
    "  \n",
    "<p>  \n",
    "Example -   \n",
    "\n",
    "Count from: 4  \n",
    "Count to  : 13  \n",
    "Count by  : 3  \n",
    "\n",
    "4 7 10 13\n",
    "</p>"
   ]
  },
  {
   "cell_type": "code",
   "execution_count": 7,
   "metadata": {
    "collapsed": true
   },
   "outputs": [],
   "source": [
    "# Enter code here"
   ]
  },
  {
   "cell_type": "markdown",
   "metadata": {},
   "source": [
    "<h3>Noticing Even Numbers</h3>\n",
    "<ol>\n",
    "    <li>Write a program that uses a for loop to iterate through all the numbers from 1 to 20, only print numbers that are divisible by two.</li>\n",
    "</ol>  \n",
    "  "
   ]
  },
  {
   "cell_type": "code",
   "execution_count": 8,
   "metadata": {
    "collapsed": true
   },
   "outputs": [],
   "source": [
    "# Enter code here"
   ]
  },
  {
   "cell_type": "markdown",
   "metadata": {},
   "source": [
    "# Nested Loops"
   ]
  },
  {
   "cell_type": "markdown",
   "metadata": {},
   "source": [
    "# Functions"
   ]
  },
  {
   "cell_type": "markdown",
   "metadata": {},
   "source": [
    "<h3>Free throw percentage calculator as a function</h3>\n",
    "<ol>\n",
    "    <li>Create a function that takes the stats needed for free throw percentage and returns the result.</li>\n",
    "    <li>Ask the user for the stats needed to calculate free throw percentage.</li>\n",
    "    <li>Pass the user entered information to the function.</li>\n",
    "    <li>Display the result.</li>\n",
    "</ol>"
   ]
  },
  {
   "cell_type": "code",
   "execution_count": null,
   "metadata": {
    "collapsed": true
   },
   "outputs": [],
   "source": [
    "# Enter code here"
   ]
  }
 ],
 "metadata": {
  "hide_input": false,
  "kernelspec": {
   "display_name": "Python 3",
   "language": "python",
   "name": "python3"
  },
  "language_info": {
   "codemirror_mode": {
    "name": "ipython",
    "version": 3
   },
   "file_extension": ".py",
   "mimetype": "text/x-python",
   "name": "python",
   "nbconvert_exporter": "python",
   "pygments_lexer": "ipython3",
   "version": "3.6.2"
  },
  "toc": {
   "base_numbering": 1,
   "nav_menu": {},
   "number_sections": true,
   "sideBar": true,
   "skip_h1_title": false,
   "title_cell": "Table of Contents",
   "title_sidebar": "Contents",
   "toc_cell": false,
   "toc_position": {
    "height": "calc(100% - 180px)",
    "left": "10px",
    "top": "150px",
    "width": "384px"
   },
   "toc_section_display": true,
   "toc_window_display": true
  }
 },
 "nbformat": 4,
 "nbformat_minor": 2
}
