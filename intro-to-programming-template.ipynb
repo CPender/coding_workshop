{
 "cells": [
  {
   "cell_type": "markdown",
   "metadata": {},
   "source": [
    "# Vocab"
   ]
  },
  {
   "cell_type": "markdown",
   "metadata": {},
   "source": [
    "<h3> What is a programming language? </h3>\n",
    "<h3> What programming language are we using? </h3>\n",
    "<h3> What tool or IDE are we using to write code? </h3>\n",
    "\n",
    "<h3> What is a variable?</h3>\n",
    "<h3> What are the differnt types of data types?</h3>"
   ]
  },
  {
   "cell_type": "markdown",
   "metadata": {},
   "source": [
    "# Keyboard Input / Variables"
   ]
  },
  {
   "cell_type": "markdown",
   "metadata": {},
   "source": [
    "<h3> Name, Age, and salary </h3>\n",
    "<ol>\n",
    "    <li>Ask the user for their name. </li>\n",
    "    <li>Print the name of the user. </li>\n",
    "    <li>Ask the user their age</li>\n",
    "    <li>Print the age of the user.</li>\n",
    "    <li>Ask the user how much they make.</li>\n",
    "    <li>Print the users salary. </li>\n",
    "</ol>"
   ]
  },
  {
   "cell_type": "code",
   "execution_count": 1,
   "metadata": {},
   "outputs": [
    {
     "name": "stdout",
     "output_type": "stream",
     "text": [
      "what is your name?Calanja\n",
      "Calanja\n",
      "what is your age?15\n",
      "15\n",
      "what is your salary?100000\n",
      "100000\n"
     ]
    }
   ],
   "source": [
    "name= input(\"what is your name?\")\n",
    "print(name)\n",
    "age = input(\"what is your age?\")\n",
    "print(age)\n",
    "salary = input(\"what is your salary?\")\n",
    "print(salary)"
   ]
  },
  {
   "cell_type": "markdown",
   "metadata": {},
   "source": [
    "<h3> Age in 5 years </h3>\n",
    "<ol>\n",
    "    <li>Ask the user for their name. </li>\n",
    "    <li>Print the name of the user. </li>\n",
    "    <li>Ask the user their age</li>\n",
    "    <li>Print what the age of the user will be 5 years from now.</li>\n",
    "    <li>Print what the age of the user would of been 5 years ago.</li>\n",
    "</ol>"
   ]
  },
  {
   "cell_type": "code",
   "execution_count": 1,
   "metadata": {},
   "outputs": [],
   "source": [
    "# Enter code here"
   ]
  },
  {
   "cell_type": "markdown",
   "metadata": {},
   "source": [
    "<h3>A dumb calculator </h3>\n",
    "<ol>\n",
    "    <li>Ask the user to enter 3 numbers </li>\n",
    "    <li>Add the numbers together and divide by 2 </li>\n",
    "    <li>Print the result</li>\n",
    "</ol>"
   ]
  },
  {
   "cell_type": "code",
   "execution_count": 6,
   "metadata": {},
   "outputs": [
    {
     "name": "stdout",
     "output_type": "stream",
     "text": [
      "enter first number456\n",
      "enter second number999\n",
      "enter third number675\n",
      "1065.0\n"
     ]
    }
   ],
   "source": [
    "number1 = input(\"enter first number\")\n",
    "number2 = input(\"enter second number\")\n",
    "number3 = input(\"enter third number\")\n",
    "number1 = int(number1)\n",
    "number2 = int(number2)\n",
    "number3 = int(number3)\n",
    "\n",
    "result = (number1 + number2 + number3) /2\n",
    "print(result)"
   ]
  },
  {
   "cell_type": "markdown",
   "metadata": {},
   "source": [
    "<h3>Simple Free throw percentage calculator </h3>\n",
    "<ol>\n",
    "    <li>Ask the user for number of free throw shots attempted</li>\n",
    "    <li>Ask the user how many of the free throw shots they made</li>\n",
    "    <li>Calculate the free throw percentage</li>\n",
    "\n",
    "</ol>"
   ]
  },
  {
   "cell_type": "code",
   "execution_count": 7,
   "metadata": {},
   "outputs": [
    {
     "name": "stdout",
     "output_type": "stream",
     "text": [
      "enter free throw shots attempted1000\n",
      "enter free throws made832\n",
      "0.832\n"
     ]
    }
   ],
   "source": [
    "# Enter code here"
   ]
  },
  {
   "cell_type": "markdown",
   "metadata": {},
   "source": [
    "<h3>Simple field goal percentage calculator </h3>\n",
    "<ol>\n",
    "    <li>Ask the user for the stats needed to caclaulate field goal percentage</li>\n",
    "    <li>Calculate the field goal percentage</li>\n",
    "</ol>"
   ]
  },
  {
   "cell_type": "code",
   "execution_count": 9,
   "metadata": {},
   "outputs": [
    {
     "name": "stdout",
     "output_type": "stream",
     "text": [
      "how many field goals attempted987\n",
      "how many field goals made459\n",
      "0.46504559270516715\n"
     ]
    }
   ],
   "source": [
    "attempted = input(\"how many field goals attempted\")\n",
    "made = input(\"how many field goals made\")\n",
    "attempted = float(attempted)\n",
    "made = float(made)\n",
    "pct = made/attempted\n",
    "print(pct)"
   ]
  },
  {
   "cell_type": "markdown",
   "metadata": {},
   "source": [
    "# If Statements"
   ]
  },
  {
   "cell_type": "markdown",
   "metadata": {},
   "source": [
    "<h3>How Old Are You?</h3>\n",
    "<p>Make a program which displays a different message depending on the age given. Here are the possible responses:</p>\n",
    "<ol>\n",
    "    <li>Ask user to input their age (make sure is Integer)</li>\n",
    "    <li>age is less than 16, say \"You can't drive.\"</li>\n",
    "    <li>age is less than 18, say \"You can't vote.\"</li>\n",
    "    <li>age is less than 25, say \"You can't rent a car.\"</li>\n",
    "    <li>age is 25 or over, say \"You can do anything that's legal.\"</li>\n",
    "</ol>"
   ]
  },
  {
   "cell_type": "code",
   "execution_count": null,
   "metadata": {},
   "outputs": [],
   "source": [
    "# Enter code here\n",
    "if age <16:\n",
    "    print(\"you cant drive\")\n",
    "elif age <18:\n",
    "    print(\"you cant vote\")\n",
    "\n",
    "# Finish code here for steps 4 and 5"
   ]
  },
  {
   "cell_type": "markdown",
   "metadata": {},
   "source": [
    "<h3> Weekday Name </h3>\n",
    "<p>I wrote a function below that will return the name of a day of the week given the day number. Finish the function by writing the logic that applies our end result.</p>"
   ]
  },
  {
   "cell_type": "code",
   "execution_count": 20,
   "metadata": {
    "collapsed": true
   },
   "outputs": [],
   "source": [
    "def return_name_of_day(number):\n",
    "    day = None\n",
    "    \n",
    "    if number == 1:\n",
    "        day = \"sunday\"\n",
    "    elif number == 2:\n",
    "        day = \"monday\"\n",
    "       \n",
    "    # Finish code here\n",
    "        \n",
    "    \n",
    "    \n",
    "    return day"
   ]
  },
  {
   "cell_type": "code",
   "execution_count": 25,
   "metadata": {},
   "outputs": [
    {
     "name": "stdout",
     "output_type": "stream",
     "text": [
      "non\n"
     ]
    }
   ],
   "source": [
    "result = return_name_of_day(8)\n",
    "print(result)"
   ]
  },
  {
   "cell_type": "markdown",
   "metadata": {},
   "source": [
    "# While Statements"
   ]
  },
  {
   "cell_type": "markdown",
   "metadata": {},
   "source": [
    "# For Loops"
   ]
  },
  {
   "cell_type": "markdown",
   "metadata": {},
   "source": [
    "# Nested Loops"
   ]
  },
  {
   "cell_type": "markdown",
   "metadata": {},
   "source": [
    "# Functions"
   ]
  },
  {
   "cell_type": "markdown",
   "metadata": {},
   "source": [
    "<h3>Free throw percentage calculator as a function</h3>\n",
    "<ol>\n",
    "    <li>Create a function that takes the stats needed for free throw percentage and returns the result.</li>\n",
    "    <li>Ask the user for the stats needed to calculate free throw percentage.</li>\n",
    "    <li>Pass the user entered information to the function.</li>\n",
    "    <li>Display the result.</li>\n",
    "</ol>"
   ]
  },
  {
   "cell_type": "code",
   "execution_count": null,
   "metadata": {
    "collapsed": true
   },
   "outputs": [],
   "source": [
    "# Enter code here"
   ]
  }
 ],
 "metadata": {
  "hide_input": false,
  "kernelspec": {
   "display_name": "Python 3",
   "language": "python",
   "name": "python3"
  },
  "language_info": {
   "codemirror_mode": {
    "name": "ipython",
    "version": 3
   },
   "file_extension": ".py",
   "mimetype": "text/x-python",
   "name": "python",
   "nbconvert_exporter": "python",
   "pygments_lexer": "ipython3",
   "version": "3.6.2"
  },
  "toc": {
   "base_numbering": 1,
   "nav_menu": {},
   "number_sections": true,
   "sideBar": true,
   "skip_h1_title": false,
   "title_cell": "Table of Contents",
   "title_sidebar": "Contents",
   "toc_cell": false,
   "toc_position": {
    "height": "calc(100% - 180px)",
    "left": "10px",
    "top": "150px",
    "width": "384px"
   },
   "toc_section_display": true,
   "toc_window_display": true
  }
 },
 "nbformat": 4,
 "nbformat_minor": 2
}
